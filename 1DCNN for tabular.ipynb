{
 "cells": [
  {
   "cell_type": "markdown",
   "id": "edfbbbb6",
   "metadata": {},
   "source": [
    "    This version of 1DCNN is the tensorflow.keras version of https://github.com/baosenguo/Kaggle-MoA-2nd-Place-Solution"
   ]
  },
  {
   "cell_type": "markdown",
   "id": "105b4913",
   "metadata": {},
   "source": [
    "# torch version\n",
    "from https://github.com/baosenguo/Kaggle-MoA-2nd-Place-Solution "
   ]
  },
  {
   "cell_type": "code",
   "execution_count": null,
   "id": "c6372bf4",
   "metadata": {},
   "outputs": [],
   "source": [
    "class Model(nn.Module):\n",
    "    def __init__(self, num_features, num_targets, hidden_size):\n",
    "        super(Model, self).__init__()\n",
    "        cha_1 = 256\n",
    "        cha_2 = 512\n",
    "        cha_3 = 512\n",
    "\n",
    "        cha_1_reshape = int(hidden_size/cha_1)\n",
    "        cha_po_1 = int(hidden_size/cha_1/2)\n",
    "        cha_po_2 = int(hidden_size/cha_1/2/2) * cha_3\n",
    "\n",
    "        self.cha_1 = cha_1\n",
    "        self.cha_2 = cha_2\n",
    "        self.cha_3 = cha_3\n",
    "        self.cha_1_reshape = cha_1_reshape\n",
    "        self.cha_po_1 = cha_po_1\n",
    "        self.cha_po_2 = cha_po_2\n",
    "\n",
    "        self.batch_norm1 = nn.BatchNorm1d(num_features)\n",
    "        self.dropout1 = nn.Dropout(0.1)\n",
    "        self.dense1 = nn.utils.weight_norm(nn.Linear(num_features, hidden_size))\n",
    "\n",
    "        self.batch_norm_c1 = nn.BatchNorm1d(cha_1)\n",
    "        self.dropout_c1 = nn.Dropout(0.1)\n",
    "        self.conv1 = nn.utils.weight_norm(nn.Conv1d(cha_1,cha_2, kernel_size = 5, stride = 1, padding=2,  bias=False),dim=None)\n",
    "\n",
    "        self.ave_po_c1 = nn.AdaptiveAvgPool1d(output_size = cha_po_1)\n",
    "\n",
    "        self.batch_norm_c2 = nn.BatchNorm1d(cha_2)\n",
    "        self.dropout_c2 = nn.Dropout(0.1)\n",
    "        self.conv2 = nn.utils.weight_norm(nn.Conv1d(cha_2,cha_2, kernel_size = 3, stride = 1, padding=1, bias=True),dim=None)\n",
    "\n",
    "        self.batch_norm_c2_1 = nn.BatchNorm1d(cha_2)\n",
    "        self.dropout_c2_1 = nn.Dropout(0.3)\n",
    "        self.conv2_1 = nn.utils.weight_norm(nn.Conv1d(cha_2,cha_2, kernel_size = 3, stride = 1, padding=1, bias=True),dim=None)\n",
    "\n",
    "        self.batch_norm_c2_2 = nn.BatchNorm1d(cha_2)\n",
    "        self.dropout_c2_2 = nn.Dropout(0.2)\n",
    "        self.conv2_2 = nn.utils.weight_norm(nn.Conv1d(cha_2,cha_3, kernel_size = 5, stride = 1, padding=2, bias=True),dim=None)\n",
    "\n",
    "        self.max_po_c2 = nn.MaxPool1d(kernel_size=4, stride=2, padding=1)\n",
    "\n",
    "        self.flt = nn.Flatten()\n",
    "\n",
    "        self.batch_norm3 = nn.BatchNorm1d(cha_po_2)\n",
    "        self.dropout3 = nn.Dropout(0.2)\n",
    "        self.dense3 = nn.utils.weight_norm(nn.Linear(cha_po_2, num_targets))\n",
    "\n",
    "    def forward(self, x):\n",
    "\n",
    "        x = self.batch_norm1(x)\n",
    "        x = self.dropout1(x)\n",
    "        x = F.celu(self.dense1(x), alpha=0.06)\n",
    "\n",
    "        x = x.reshape(x.shape[0],self.cha_1,\n",
    "                      self.cha_1_reshape)\n",
    "\n",
    "        x = self.batch_norm_c1(x)\n",
    "        x = self.dropout_c1(x)\n",
    "        x = F.relu(self.conv1(x))\n",
    "\n",
    "        x = self.ave_po_c1(x)\n",
    "\n",
    "        x = self.batch_norm_c2(x)\n",
    "        x = self.dropout_c2(x)\n",
    "        x = F.relu(self.conv2(x))\n",
    "        x_s = x\n",
    "\n",
    "        x = self.batch_norm_c2_1(x)\n",
    "        x = self.dropout_c2_1(x)\n",
    "        x = F.relu(self.conv2_1(x))\n",
    "\n",
    "        x = self.batch_norm_c2_2(x)\n",
    "        x = self.dropout_c2_2(x)\n",
    "        x = F.relu(self.conv2_2(x))\n",
    "        x =  x * x_s\n",
    "\n",
    "        x = self.max_po_c2(x)\n",
    "\n",
    "        x = self.flt(x)\n",
    "\n",
    "        x = self.batch_norm3(x)\n",
    "        x = self.dropout3(x)\n",
    "        x = self.dense3(x)\n",
    "\n",
    "        return x"
   ]
  },
  {
   "cell_type": "markdown",
   "id": "e94a13a7",
   "metadata": {},
   "source": [
    "# tf.keras version"
   ]
  },
  {
   "cell_type": "markdown",
   "id": "e4e2a5b0",
   "metadata": {},
   "source": [
    "    Let's take iris data as an example"
   ]
  },
  {
   "cell_type": "code",
   "execution_count": 1,
   "id": "47342f49",
   "metadata": {},
   "outputs": [],
   "source": [
    "from sklearn.datasets import load_iris\n",
    "X,y=load_iris(return_X_y=True)"
   ]
  },
  {
   "cell_type": "code",
   "execution_count": 2,
   "id": "bbc7c04b",
   "metadata": {},
   "outputs": [
    {
     "data": {
      "text/plain": [
       "(150, 4)"
      ]
     },
     "execution_count": 2,
     "metadata": {},
     "output_type": "execute_result"
    }
   ],
   "source": [
    "X.shape"
   ]
  },
  {
   "cell_type": "code",
   "execution_count": 9,
   "id": "751cb738",
   "metadata": {},
   "outputs": [],
   "source": [
    "from tensorflow.keras.layers import *\n",
    "from tensorflow_addons.layers import *\n",
    "import tensorflow as tf\n",
    "from tensorflow.keras.models import Model\n",
    "from tensorflow import keras\n",
    "from tensorflow.keras.optimizers import Adam\n",
    "import tensorflow_addons as tfa\n",
    "def celu(x,alpha=0.06 ):\n",
    "    mask_greater = tf.cast(tf.greater_equal(x,0),tf.float32) * x\n",
    "    mask_smaller = tf.cast(tf.less(x,0),tf.float32) * x\n",
    "    middle = alpha * ( tf.exp(tf.divide(mask_smaller,alpha)) - 1)\n",
    "    return middle + mask_greater\n",
    "\n",
    "from tensorflow.keras.layers import Activation\n",
    "from tensorflow.keras.utils import get_custom_objects\n",
    "get_custom_objects()['celu']=Activation(celu)"
   ]
  },
  {
   "cell_type": "code",
   "execution_count": 4,
   "id": "6e461924",
   "metadata": {},
   "outputs": [],
   "source": [
    "cha_1 = 256\n",
    "cha_2 = 512\n",
    "cha_3 = 512\n",
    "\n",
    "inputs=Input(shape=(4))\n",
    "x=BatchNormalization()(inputs)\n",
    "x=Dropout(0.1)(x)\n",
    "x=WeightNormalization(Dense(4096,activation='linear'))(x)\n",
    "x=Activation('celu')(x)\n",
    "x=Reshape((256,16))(x)\n",
    "\n",
    "x=BatchNormalization()(x)\n",
    "x=Dropout(0.1)(x)\n",
    "\n",
    "x=WeightNormalization(Conv1D(filters=cha_2, kernel_size = 5, strides = 1, padding='same', use_bias=False))(x)\n",
    "x=Activation('relu')(x)\n",
    "\n",
    "\n",
    "x=AveragePooling1D()(x)\n",
    "\n",
    "x=BatchNormalization()(x)\n",
    "x=Dropout(0.1)(x)\n",
    "\n",
    "x=WeightNormalization(Conv1D(filters=cha_2, kernel_size = 3, strides = 1, padding='same', use_bias=True))(x)\n",
    "x=Activation('relu')(x)\n",
    "\n",
    "x_s = x\n",
    "\n",
    "x=BatchNormalization()(x)\n",
    "x=Dropout(0.3)(x)\n",
    "x=WeightNormalization(Conv1D(filters=cha_2, kernel_size = 3, strides = 1, padding='same', use_bias=True))(x)\n",
    "x=Activation('relu')(x)\n",
    "\n",
    "x=BatchNormalization()(x)\n",
    "x=Dropout(0.2)(x)\n",
    "\n",
    "x=WeightNormalization(Conv1D(filters=cha_3, kernel_size = 5, strides = 1, padding='same', use_bias=True))(x)\n",
    "x=Activation('relu')(x)\n",
    "x =  x * x_s\n",
    "x=MaxPooling1D(pool_size=4,strides=2,padding='same')(x)\n",
    "x=Flatten()(x)\n",
    "x=BatchNormalization()(x)\n",
    "x=Dropout(0.2)(x)\n",
    "\n",
    "### task layer\n",
    "outputs=WeightNormalization(Dense(3,activation='softmax'))(x)"
   ]
  },
  {
   "cell_type": "code",
   "execution_count": 10,
   "id": "bbc68212",
   "metadata": {},
   "outputs": [],
   "source": [
    "from tensorflow.keras import losses"
   ]
  },
  {
   "cell_type": "code",
   "execution_count": 16,
   "id": "63b6baaa",
   "metadata": {
    "scrolled": true
   },
   "outputs": [
    {
     "name": "stdout",
     "output_type": "stream",
     "text": [
      "Model: \"model_2\"\n",
      "__________________________________________________________________________________________________\n",
      "Layer (type)                    Output Shape         Param #     Connected to                     \n",
      "==================================================================================================\n",
      "input_1 (InputLayer)            [(None, 4)]          0                                            \n",
      "__________________________________________________________________________________________________\n",
      "batch_normalization (BatchNorma (None, 4)            16          input_1[0][0]                    \n",
      "__________________________________________________________________________________________________\n",
      "dropout (Dropout)               (None, 4)            0           batch_normalization[0][0]        \n",
      "__________________________________________________________________________________________________\n",
      "weight_normalization (WeightNor (None, 4096)         45057       dropout[0][0]                    \n",
      "__________________________________________________________________________________________________\n",
      "activation_1 (Activation)       (None, 4096)         0           weight_normalization[0][0]       \n",
      "__________________________________________________________________________________________________\n",
      "reshape (Reshape)               (None, 256, 16)      0           activation_1[0][0]               \n",
      "__________________________________________________________________________________________________\n",
      "batch_normalization_1 (BatchNor (None, 256, 16)      64          reshape[0][0]                    \n",
      "__________________________________________________________________________________________________\n",
      "dropout_1 (Dropout)             (None, 256, 16)      0           batch_normalization_1[0][0]      \n",
      "__________________________________________________________________________________________________\n",
      "weight_normalization_1 (WeightN (None, 256, 512)     82433       dropout_1[0][0]                  \n",
      "__________________________________________________________________________________________________\n",
      "activation_2 (Activation)       (None, 256, 512)     0           weight_normalization_1[0][0]     \n",
      "__________________________________________________________________________________________________\n",
      "average_pooling1d (AveragePooli (None, 128, 512)     0           activation_2[0][0]               \n",
      "__________________________________________________________________________________________________\n",
      "batch_normalization_2 (BatchNor (None, 128, 512)     2048        average_pooling1d[0][0]          \n",
      "__________________________________________________________________________________________________\n",
      "dropout_2 (Dropout)             (None, 128, 512)     0           batch_normalization_2[0][0]      \n",
      "__________________________________________________________________________________________________\n",
      "weight_normalization_2 (WeightN (None, 128, 512)     1574401     dropout_2[0][0]                  \n",
      "__________________________________________________________________________________________________\n",
      "activation_3 (Activation)       (None, 128, 512)     0           weight_normalization_2[0][0]     \n",
      "__________________________________________________________________________________________________\n",
      "batch_normalization_3 (BatchNor (None, 128, 512)     2048        activation_3[0][0]               \n",
      "__________________________________________________________________________________________________\n",
      "dropout_3 (Dropout)             (None, 128, 512)     0           batch_normalization_3[0][0]      \n",
      "__________________________________________________________________________________________________\n",
      "weight_normalization_3 (WeightN (None, 128, 512)     1574401     dropout_3[0][0]                  \n",
      "__________________________________________________________________________________________________\n",
      "activation_4 (Activation)       (None, 128, 512)     0           weight_normalization_3[0][0]     \n",
      "__________________________________________________________________________________________________\n",
      "batch_normalization_4 (BatchNor (None, 128, 512)     2048        activation_4[0][0]               \n",
      "__________________________________________________________________________________________________\n",
      "dropout_4 (Dropout)             (None, 128, 512)     0           batch_normalization_4[0][0]      \n",
      "__________________________________________________________________________________________________\n",
      "weight_normalization_4 (WeightN (None, 128, 512)     2622977     dropout_4[0][0]                  \n",
      "__________________________________________________________________________________________________\n",
      "activation_5 (Activation)       (None, 128, 512)     0           weight_normalization_4[0][0]     \n",
      "__________________________________________________________________________________________________\n",
      "tf.math.multiply (TFOpLambda)   (None, 128, 512)     0           activation_5[0][0]               \n",
      "                                                                 activation_3[0][0]               \n",
      "__________________________________________________________________________________________________\n",
      "max_pooling1d (MaxPooling1D)    (None, 64, 512)      0           tf.math.multiply[0][0]           \n",
      "__________________________________________________________________________________________________\n",
      "flatten (Flatten)               (None, 32768)        0           max_pooling1d[0][0]              \n",
      "__________________________________________________________________________________________________\n",
      "batch_normalization_5 (BatchNor (None, 32768)        131072      flatten[0][0]                    \n",
      "__________________________________________________________________________________________________\n",
      "dropout_5 (Dropout)             (None, 32768)        0           batch_normalization_5[0][0]      \n",
      "__________________________________________________________________________________________________\n",
      "weight_normalization_5 (WeightN (None, 3)            196618      dropout_5[0][0]                  \n",
      "==================================================================================================\n",
      "Total params: 6,233,183\n",
      "Trainable params: 3,119,662\n",
      "Non-trainable params: 3,113,521\n",
      "__________________________________________________________________________________________________\n",
      "('You must install pydot (`pip install pydot`) and install graphviz (see instructions at https://graphviz.gitlab.io/download/) ', 'for plot_model/model_to_dot to work.')\n"
     ]
    }
   ],
   "source": [
    "model=Model(inputs,outputs)\n",
    "opt = Adam(learning_rate=5e-4)\n",
    "opt = tfa.optimizers.SWA(opt)\n",
    "model.compile(optimizer = opt,loss=losses.SparseCategoricalCrossentropy())\n",
    "model.summary()\n",
    "keras.utils.plot_model(model, show_shapes=True)"
   ]
  },
  {
   "cell_type": "code",
   "execution_count": 17,
   "id": "45edccbd",
   "metadata": {},
   "outputs": [
    {
     "name": "stdout",
     "output_type": "stream",
     "text": [
      "5/5 [==============================] - 7s 426ms/step - loss: 0.4737\n"
     ]
    },
    {
     "data": {
      "text/plain": [
       "<tensorflow.python.keras.callbacks.History at 0x19a32c262b0>"
      ]
     },
     "execution_count": 17,
     "metadata": {},
     "output_type": "execute_result"
    }
   ],
   "source": [
    "model.fit(X,y,epochs=1)"
   ]
  }
 ],
 "metadata": {
  "kernelspec": {
   "display_name": "Python 3",
   "language": "python",
   "name": "python3"
  },
  "language_info": {
   "codemirror_mode": {
    "name": "ipython",
    "version": 3
   },
   "file_extension": ".py",
   "mimetype": "text/x-python",
   "name": "python",
   "nbconvert_exporter": "python",
   "pygments_lexer": "ipython3",
   "version": "3.8.8"
  },
  "toc": {
   "base_numbering": 1,
   "nav_menu": {},
   "number_sections": true,
   "sideBar": true,
   "skip_h1_title": false,
   "title_cell": "Table of Contents",
   "title_sidebar": "Contents",
   "toc_cell": false,
   "toc_position": {},
   "toc_section_display": true,
   "toc_window_display": false
  }
 },
 "nbformat": 4,
 "nbformat_minor": 5
}
